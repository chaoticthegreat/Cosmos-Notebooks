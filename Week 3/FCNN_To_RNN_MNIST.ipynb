{
  "nbformat": 4,
  "nbformat_minor": 0,
  "metadata": {
    "colab": {
      "provenance": []
    },
    "kernelspec": {
      "name": "python3",
      "display_name": "Python 3"
    },
    "language_info": {
      "name": "python"
    }
  },
  "cells": [
    {
      "cell_type": "markdown",
      "source": [
        "# Coding Notebook 4: FCNN TO RNN MNIST\n",
        "\n",
        "By Dylan Louie\n",
        "\n",
        "Today we will be converting a FCNN that takes in the whole image flattened at once to a RNN that takes in rows to learn about inputting sequential data"
      ],
      "metadata": {
        "id": "4kpirNuydU5i"
      }
    },
    {
      "cell_type": "code",
      "execution_count": 1,
      "metadata": {
        "id": "JhmCKBIEdRjR"
      },
      "outputs": [],
      "source": [
        "import torch\n",
        "import torch.nn as nn\n",
        "import torch.nn.functional as F\n",
        "import numpy as np\n",
        "import matplotlib.pyplot as plt\n",
        "import torchvision\n",
        "from torchvision import datasets, transforms"
      ]
    },
    {
      "cell_type": "markdown",
      "source": [
        "## 1. Set Device And Datatypes For Your Neural Network and Pytorch Tensors"
      ],
      "metadata": {
        "id": "Yf5TXhKVerNv"
      }
    },
    {
      "cell_type": "code",
      "source": [
        "dtype = torch.float\n",
        "device = torch.device(\"cuda\") if torch.cuda.is_available() else torch.device(\"mps\") if torch.backends.mps.is_available() else torch.device(\"cpu\")"
      ],
      "metadata": {
        "id": "xbduP5UFelSy"
      },
      "execution_count": 2,
      "outputs": []
    },
    {
      "cell_type": "markdown",
      "source": [
        "## 2. Download the MNIST Dataset from torchvision\n",
        "\n",
        "https://docs.pytorch.org/vision/main/generated/torchvision.datasets.MNIST.html"
      ],
      "metadata": {
        "id": "gwVLJZTjfF-R"
      }
    },
    {
      "cell_type": "code",
      "source": [
        "# path to where data is saced\n",
        "data_path='/tmp/data/mnist'\n",
        "\n",
        "# using torchvision.datasets to get MNIST\n",
        "trainset = datasets.MNIST(root='./data', train=True, download=True, transform=transforms.ToTensor())\n",
        "testset = datasets.MNIST(root='./data', train=False, download=True, transform=transforms.ToTensor())"
      ],
      "metadata": {
        "id": "tGIhRJV7d4JV"
      },
      "execution_count": 3,
      "outputs": []
    },
    {
      "cell_type": "code",
      "source": [
        "print(type(trainset))\n",
        "print(f\"The length of the training dataset is {len(trainset)}\")\n",
        "print(f\"The length of the test dataset is {len(testset)}\")\n",
        "print()\n",
        "\n",
        "# get the first tuple of the trainset (image, label)\n",
        "print(type(trainset[0]))\n",
        "print(type(trainset[0][0]), type(trainset[0][1]))\n",
        "print(trainset[0][0].shape)"
      ],
      "metadata": {
        "colab": {
          "base_uri": "https://localhost:8080/"
        },
        "id": "jrT5KbDufnlH",
        "outputId": "e36fa305-f110-4286-9dc9-615e8caf80cf"
      },
      "execution_count": 4,
      "outputs": [
        {
          "output_type": "stream",
          "name": "stdout",
          "text": [
            "<class 'torchvision.datasets.mnist.MNIST'>\n",
            "The length of the training dataset is 60000\n",
            "The length of the test dataset is 10000\n",
            "\n",
            "<class 'tuple'>\n",
            "<class 'torch.Tensor'> <class 'int'>\n",
            "torch.Size([1, 28, 28])\n"
          ]
        }
      ]
    },
    {
      "cell_type": "markdown",
      "source": [
        "## 3. Display the dataset with matplotlib"
      ],
      "metadata": {
        "id": "TWOy7OKIiiFz"
      }
    },
    {
      "cell_type": "code",
      "source": [
        "def display_trainset(trainset, rows=3, columns=3):\n",
        "    fig, ax = plt.subplots(rows, columns)\n",
        "\n",
        "    # iterate through the specified rows and columns of the figure\n",
        "    for i in range(rows):\n",
        "        for j in range(columns):\n",
        "\n",
        "            # display the image\n",
        "            # needs to be HxWxC\n",
        "            # https://matplotlib.org/stable/api/_as_gen/matplotlib.pyplot.imshow.html\n",
        "            ax[i, j].imshow(torch.permute(trainset[i*j + j][0], (1, 2, 0)), cmap='gray')\n",
        "\n",
        "            # add a title which is the label\n",
        "            ax[i, j].set_title('Label: ' + str(trainset[i*j + j][1]))\n",
        "\n",
        "            # Hide axes ticks\n",
        "            ax[i, j].set_xticks([])\n",
        "            ax[i, j].set_yticks([])\n",
        "\n",
        "    plt.tight_layout()\n",
        "    plt.show()\n",
        "\n",
        "display_trainset(trainset)"
      ],
      "metadata": {
        "colab": {
          "base_uri": "https://localhost:8080/",
          "height": 486
        },
        "id": "nmL-Lq8sfrFh",
        "outputId": "ff63bf0e-f73f-4640-e037-9ed673cd9828"
      },
      "execution_count": 5,
      "outputs": [
        {
          "output_type": "display_data",
          "data": {
            "text/plain": [
              "<Figure size 640x480 with 9 Axes>"
            ],
            "image/png": "[encoded data removed]"
          },
          "metadata": {}
        }
      ]
    },
    {
      "cell_type": "markdown",
      "source": [
        "# 4. Wrap the dataset in a Dataloader\n",
        "\n",
        "Dataloaders are an effecient way to iterate and load the dataset, they have additional utility such as batching and shuffling.\n",
        "\n",
        "https://docs.pytorch.org/docs/stable/data.html"
      ],
      "metadata": {
        "id": "lYMXBUS7jCIh"
      }
    },
    {
      "cell_type": "code",
      "source": [
        "from torch.utils.data import DataLoader"
      ],
      "metadata": {
        "id": "t_w_vtIMiLVN"
      },
      "execution_count": 6,
      "outputs": []
    },
    {
      "cell_type": "code",
      "source": [
        "# Create DataLoaders\n",
        "batch_size = 128\n",
        "\n",
        "train_loader = DataLoader(trainset, batch_size=batch_size, shuffle=True, drop_last=True)\n",
        "test_loader = DataLoader(testset, batch_size=batch_size, shuffle=False, drop_last=True)"
      ],
      "metadata": {
        "id": "gJnaT00vj7tn"
      },
      "execution_count": 7,
      "outputs": []
    },
    {
      "cell_type": "code",
      "source": [
        "print(f\"The length of the train loader after batching and shuffling: {len(train_loader)}\")\n",
        "print(f\"The length of the train loader * batch size: {len(train_loader)*batch_size}\\n\")\n",
        "print(f\"The length of the trainset: {len(trainset)}\")\n",
        "\n",
        "print(\"The length of the test loader after batching and shuffling: {len(test_loader)}\")\n",
        "print(f\"The length of the test loader * batch size: {len(test_loader)*batch_size}\")\n",
        "print(f\"The length of the testset: {len(testset)}\")"
      ],
      "metadata": {
        "colab": {
          "base_uri": "https://localhost:8080/"
        },
        "id": "wPHMzsFwm_WK",
        "outputId": "8371a5e0-7570-4400-9533-98c38259bc3a"
      },
      "execution_count": 8,
      "outputs": [
        {
          "output_type": "stream",
          "name": "stdout",
          "text": [
            "The length of the train loader after batching and shuffling: 468\n",
            "The length of the train loader * batch size: 59904\n",
            "\n",
            "The length of the trainset: 60000\n",
            "The length of the test loader after batching and shuffling: {len(test_loader)}\n",
            "The length of the test loader * batch size: 9984\n",
            "The length of the testset: 10000\n"
          ]
        }
      ]
    },
    {
      "cell_type": "markdown",
      "source": [
        "https://docs.pytorch.org/docs/stable/data.html#torch.utils.data.DataLoader\n",
        "\n",
        "The dataloader returns an `iterable` meaning we can't directly index and only iterate over it"
      ],
      "metadata": {
        "id": "xvd8R_iVoVEL"
      }
    },
    {
      "cell_type": "code",
      "source": [
        "try:\n",
        "    train_loader[0]\n",
        "except Exception as e:\n",
        "    print(f\"Error: {e}\")"
      ],
      "metadata": {
        "colab": {
          "base_uri": "https://localhost:8080/"
        },
        "id": "59Q6NgeVnGE6",
        "outputId": "565407c4-2775-4e20-b51c-fb4287a69a10"
      },
      "execution_count": 9,
      "outputs": [
        {
          "output_type": "stream",
          "name": "stdout",
          "text": [
            "Error: 'DataLoader' object is not subscriptable\n"
          ]
        }
      ]
    },
    {
      "cell_type": "code",
      "source": [
        "images, targets = next(iter(train_loader))\n",
        "\n",
        "print(images.shape)  # batch, channels, H, W\n",
        "print(targets.shape)  # batch"
      ],
      "metadata": {
        "colab": {
          "base_uri": "https://localhost:8080/"
        },
        "id": "yvkOhwM-odIS",
        "outputId": "191d5a06-8f88-4de0-d46f-934cf5b8c704"
      },
      "execution_count": 10,
      "outputs": [
        {
          "output_type": "stream",
          "name": "stdout",
          "text": [
            "torch.Size([128, 1, 28, 28])\n",
            "torch.Size([128])\n"
          ]
        }
      ]
    },
    {
      "cell_type": "markdown",
      "source": [
        "## 5. Make Model"
      ],
      "metadata": {
        "id": "HCIoneG2yVZp"
      }
    },
    {
      "cell_type": "code",
      "source": [
        "# Hyper Parameters\n",
        "\n",
        "hidden_size = 128\n",
        "num_classes = 10\n",
        "num_epochs = 2\n",
        "learning_rate = 1e-3\n",
        "\n",
        "input_size = 28\n",
        "sequence_length = 28\n",
        "num_layers = 2"
      ],
      "metadata": {
        "id": "GP-VujMBmusx"
      },
      "execution_count": 11,
      "outputs": []
    },
    {
      "cell_type": "code",
      "source": [
        "# deine nn\n",
        "class RNN(nn.Module):\n",
        "    def __init__(self, input_size, hidden_size, num_layers, num_classes):\n",
        "        super().__init__()\n",
        "\n",
        "        # Save hyperparameters\n",
        "        self.num_layers = num_layers\n",
        "        self.hidden_size = hidden_size\n",
        "\n",
        "        #define layers\n",
        "        self.rnn = nn.RNN(input_size, hidden_size, num_layers, batch_first=True)\n",
        "        # x dims --> batch_size, sequence length, input size/features\n",
        "\n",
        "        self.fc = nn.Linear(hidden_size, num_classes)\n",
        "\n",
        "\n",
        "    def forward(self, x):\n",
        "\n",
        "        # define initial hidden state\n",
        "        h0 = torch.zeros(self.num_layers, x.size(0), self.hidden_size).to(device)\n",
        "\n",
        "        # feed in input and hidden state into the rnn\n",
        "        out, _ = self.rnn(x, h0)\n",
        "\n",
        "\n",
        "        # out: batch_size, seq_length, hidden size\n",
        "        # out: (N, 28, 28)\n",
        "        # get the last sequence output\n",
        "        out = out[:, -1, :]\n",
        "\n",
        "        # out (N, 128)\n",
        "        out = self.fc(out)\n",
        "\n",
        "\n",
        "        return out"
      ],
      "metadata": {
        "id": "CK6biSevfG9A"
      },
      "execution_count": 19,
      "outputs": []
    },
    {
      "cell_type": "code",
      "source": [
        "class GRU(nn.Module):\n",
        "    def __init__(self, input_size, hidden_size, num_layers, num_classes):\n",
        "        super().__init__()\n",
        "\n",
        "        # Save hyperparameters\n",
        "        self.num_layers = num_layers\n",
        "        self.hidden_size = hidden_size\n",
        "\n",
        "        #define layers\n",
        "        self.rnn = nn.GRU(input_size, hidden_size, num_layers, batch_first=True)\n",
        "        # x dims --> batch_size, sequence length, input size/features\n",
        "\n",
        "        self.fc = nn.Linear(hidden_size, num_classes)\n",
        "\n",
        "\n",
        "    def forward(self, x):\n",
        "\n",
        "        # define initial hidden state\n",
        "        h0 = torch.zeros(self.num_layers, x.size(0), self.hidden_size).to(device)\n",
        "\n",
        "        # feed in input and hidden state into the rnn\n",
        "        out, _ = self.rnn(x, h0)\n",
        "\n",
        "\n",
        "        # out: batch_size, seq_length, hidden size\n",
        "        # out: (N, 28, 28)\n",
        "        # get the last sequence output\n",
        "        out = out[:, -1, :]\n",
        "\n",
        "        # out (N, 128)\n",
        "        out = self.fc(out)\n",
        "\n",
        "\n",
        "        return out"
      ],
      "metadata": {
        "id": "EyNY0tfd3sgP"
      },
      "execution_count": 30,
      "outputs": []
    },
    {
      "cell_type": "code",
      "source": [
        "class LSTM(nn.Module):\n",
        "    def __init__(self, input_size, hidden_size, num_layers, num_classes):\n",
        "        super().__init__()\n",
        "\n",
        "        # Save hyperparameters\n",
        "        self.num_layers = num_layers\n",
        "        self.hidden_size = hidden_size\n",
        "\n",
        "        #define layers\n",
        "        self.rnn = nn.LSTM(input_size, hidden_size, num_layers, batch_first=True)\n",
        "        # x dims --> batch_size, sequence length, input size/features\n",
        "\n",
        "        self.fc = nn.Linear(hidden_size, num_classes)\n",
        "\n",
        "\n",
        "    def forward(self, x):\n",
        "\n",
        "        # define initial hidden state\n",
        "        h0 = torch.zeros(self.num_layers, x.size(0), self.hidden_size).to(device)\n",
        "\n",
        "        c0 = torch.zeros(self.num_layers, x.size(0), self.hidden_size).to(device)\n",
        "\n",
        "        # feed in input and hidden state into the rnn\n",
        "        out, _ = self.rnn(x, (h0, c0))\n",
        "\n",
        "\n",
        "        # out: batch_size, seq_length, hidden size\n",
        "        # out: (N, 28, 28)\n",
        "        # get the last sequence output\n",
        "        out = out[:, -1, :]\n",
        "\n",
        "        # out (N, 128)\n",
        "        out = self.fc(out)\n",
        "\n",
        "\n",
        "        return out"
      ],
      "metadata": {
        "id": "ijYNK7m_4KQH"
      },
      "execution_count": 51,
      "outputs": []
    },
    {
      "cell_type": "code",
      "source": [
        "model = LSTM(input_size, hidden_size, num_layers, num_classes)"
      ],
      "metadata": {
        "id": "DIWQ9ByGfNPK"
      },
      "execution_count": 52,
      "outputs": []
    },
    {
      "cell_type": "markdown",
      "source": [
        "# Show Softmax of Logits Before Training"
      ],
      "metadata": {
        "id": "zqrJb77hksPx"
      }
    },
    {
      "cell_type": "code",
      "source": [
        "model.eval()\n",
        "\n",
        "# get the first batch\n",
        "images, targets = next(iter(train_loader))\n",
        "\n",
        "# could also use\n",
        "images = images.reshape(-1, 28, 28)\n",
        "\n",
        "logits = model(images)\n",
        "\n",
        "print(logits.shape)\n",
        "print(logits)"
      ],
      "metadata": {
        "colab": {
          "base_uri": "https://localhost:8080/"
        },
        "id": "fiuYjEuHkvpn",
        "outputId": "9f489197-bbd7-424c-e97c-309bcf2597fd"
      },
      "execution_count": 53,
      "outputs": [
        {
          "output_type": "stream",
          "name": "stdout",
          "text": [
            "torch.Size([128, 10])\n",
            "tensor([[ 0.0592,  0.0143,  0.0440,  ..., -0.0505,  0.0893, -0.0530],\n",
            "        [ 0.0593,  0.0153,  0.0442,  ..., -0.0549,  0.0904, -0.0570],\n",
            "        [ 0.0589,  0.0155,  0.0435,  ..., -0.0515,  0.0893, -0.0542],\n",
            "        ...,\n",
            "        [ 0.0563,  0.0176,  0.0409,  ..., -0.0579,  0.0903, -0.0595],\n",
            "        [ 0.0573,  0.0156,  0.0417,  ..., -0.0574,  0.0906, -0.0575],\n",
            "        [ 0.0472,  0.0226,  0.0358,  ..., -0.0597,  0.0886, -0.0635]],\n",
            "       grad_fn=<AddmmBackward0>)\n"
          ]
        }
      ]
    },
    {
      "cell_type": "code",
      "source": [
        "# apply softmax to logits\n",
        "output = F.softmax(logits, dim=1)\n",
        "\n",
        "print(output.shape)\n",
        "print(output)\n",
        "print(output[0])\n",
        "\n",
        "with torch.no_grad():\n",
        "    for i in range(5):\n",
        "        x = np.arange(output.shape[1])\n",
        "        y = output[i]\n",
        "        plt.plot(x, y, label=f\"{targets[i]}\")\n",
        "\n",
        "        plt.xlabel(\"Labels\")\n",
        "        plt.ylabel(\"Probability\")\n",
        "\n",
        "plt.xticks(np.arange(output.shape[1]))\n",
        "plt.legend(title=\"True Label\", bbox_to_anchor=(1.05, 1), loc='upper left', borderaxespad=0.)\n",
        "plt.show()"
      ],
      "metadata": {
        "colab": {
          "base_uri": "https://localhost:8080/",
          "height": 651
        },
        "id": "I7XvAlIak1aZ",
        "outputId": "c449ae31-93d4-4489-e83b-a0f512ff7465"
      },
      "execution_count": 54,
      "outputs": [
        {
          "output_type": "stream",
          "name": "stdout",
          "text": [
            "torch.Size([128, 10])\n",
            "tensor([[0.1055, 0.1009, 0.1039,  ..., 0.0946, 0.1088, 0.0943],\n",
            "        [0.1056, 0.1010, 0.1040,  ..., 0.0942, 0.1089, 0.0940],\n",
            "        [0.1055, 0.1010, 0.1039,  ..., 0.0945, 0.1088, 0.0942],\n",
            "        ...,\n",
            "        [0.1054, 0.1013, 0.1037,  ..., 0.0940, 0.1090, 0.0938],\n",
            "        [0.1054, 0.1011, 0.1038,  ..., 0.0940, 0.1090, 0.0940],\n",
            "        [0.1046, 0.1021, 0.1034,  ..., 0.0940, 0.1091, 0.0937]],\n",
            "       grad_fn=<SoftmaxBackward0>)\n",
            "tensor([0.1055, 0.1009, 0.1039, 0.0968, 0.0950, 0.1019, 0.0983, 0.0946, 0.1088,\n",
            "        0.0943], grad_fn=<SelectBackward0>)\n"
          ]
        },
        {
          "output_type": "display_data",
          "data": {
            "text/plain": [
              "<Figure size 640x480 with 1 Axes>"
            ],
            "image/png": "[encoded data removed]"
          },
          "metadata": {}
        }
      ]
    },
    {
      "cell_type": "markdown",
      "source": [
        "## 6. Training Loop\n",
        "\n",
        "1. Feed data into the neural network and get the predicted label\n",
        "2. Compare the predicted label and the true label using a loss function\n",
        "3. Calculate the gradients of the weights + bias with respect to the loss\n",
        "4. Update the weights + bias using backpropogation\n",
        "5. Repeat"
      ],
      "metadata": {
        "id": "G58h1QEEvNyE"
      }
    },
    {
      "cell_type": "code",
      "source": [
        "optimizer = torch.optim.Adam(model.parameters(), lr=1e-3)\n",
        "num_epochs = 2\n",
        "loss_hist = []\n",
        "test_acc_hist = []\n",
        "counter = 0\n",
        "loss_fn = nn.CrossEntropyLoss()\n",
        "\n",
        "model.train()\n",
        "\n",
        "# Outer training loop\n",
        "for epoch in range(num_epochs):\n",
        "\n",
        "    # Training loop\n",
        "    for i, (data, targets) in enumerate(iter(train_loader)):\n",
        "        data = data.to(device)\n",
        "        targets = targets.to(device)\n",
        "\n",
        "        # forward pass\n",
        "        data = data.reshape( -1,28,28)\n",
        "        output = model(data)\n",
        "\n",
        "        # initialize the loss & sum over time\n",
        "        loss_val = loss_fn(output, targets)\n",
        "\n",
        "        # Gradient calculation + weight update\n",
        "        loss_val.backward()\n",
        "        optimizer.step()\n",
        "        optimizer.zero_grad()\n",
        "\n",
        "        # Store loss history for future plotting\n",
        "        loss_hist.append(loss_val.item())\n",
        "\n",
        "        # Print loss\n",
        "        if i % 100 == 0:\n",
        "            print(f\"Epoch {epoch}, Iteration {i} \\nTrain Loss: {loss_val.item():.4f}\")"
      ],
      "metadata": {
        "colab": {
          "base_uri": "https://localhost:8080/"
        },
        "id": "Y5ylEe5077ZA",
        "outputId": "55440186-9348-4b48-f966-ec11f20dce32"
      },
      "execution_count": 55,
      "outputs": [
        {
          "output_type": "stream",
          "name": "stdout",
          "text": [
            "Epoch 0, Iteration 0 \n",
            "Train Loss: 2.2995\n",
            "Epoch 0, Iteration 100 \n",
            "Train Loss: 0.7277\n",
            "Epoch 0, Iteration 200 \n",
            "Train Loss: 0.3303\n",
            "Epoch 0, Iteration 300 \n",
            "Train Loss: 0.1384\n",
            "Epoch 0, Iteration 400 \n",
            "Train Loss: 0.1562\n",
            "Epoch 1, Iteration 0 \n",
            "Train Loss: 0.2342\n",
            "Epoch 1, Iteration 100 \n",
            "Train Loss: 0.1231\n",
            "Epoch 1, Iteration 200 \n",
            "Train Loss: 0.0723\n",
            "Epoch 1, Iteration 300 \n",
            "Train Loss: 0.2260\n",
            "Epoch 1, Iteration 400 \n",
            "Train Loss: 0.1400\n"
          ]
        }
      ]
    },
    {
      "cell_type": "markdown",
      "source": [
        "# 7. Results"
      ],
      "metadata": {
        "id": "mWxMXDMZevVb"
      }
    },
    {
      "cell_type": "code",
      "source": [
        "# Plot Loss\n",
        "fig = plt.figure(facecolor='w')\n",
        "plt.plot(loss_hist)\n",
        "plt.title(\"Loss History\")\n",
        "plt.xlabel(\"Episode\")\n",
        "plt.ylabel(\"Loss\")\n",
        "plt.show()"
      ],
      "metadata": {
        "colab": {
          "base_uri": "https://localhost:8080/",
          "height": 472
        },
        "id": "20AlYG3OezY3",
        "outputId": "bd6c0977-056d-4a58-e113-01ba034dacf7"
      },
      "execution_count": 56,
      "outputs": [
        {
          "output_type": "display_data",
          "data": {
            "text/plain": [
              "<Figure size 640x480 with 1 Axes>"
            ],
            "image/png": "[encoded data removed]"
          },
          "metadata": {}
        }
      ]
    },
    {
      "cell_type": "code",
      "source": [
        "# Set model to evaluation mode\n",
        "model.eval()\n",
        "\n",
        "# Tracking variables\n",
        "total_loss = 0.0\n",
        "total_correct = 0\n",
        "total_samples = 0\n",
        "\n",
        "# Optional: store loss per batch if you want to plot later\n",
        "test_loss_hist = []\n",
        "\n",
        "with torch.no_grad():\n",
        "    for i, (data, targets) in enumerate(test_loader):\n",
        "        data = data.to(device)\n",
        "        targets = targets.to(device)\n",
        "\n",
        "        # Forward pass\n",
        "        data = data.reshape(-1, 28, 28)\n",
        "        outputs = model(data)\n",
        "        loss = loss_fn(outputs, targets)\n",
        "\n",
        "        # Track loss and accuracy\n",
        "        batch_size = data.size(0)\n",
        "        total_loss += loss.item() * batch_size\n",
        "        total_correct += (outputs.argmax(1) == targets).sum().item()\n",
        "        total_samples += batch_size\n",
        "        test_loss_hist.append(loss.item())\n",
        "\n",
        "        if i % 10 == 0:\n",
        "            print(f\"[Batch {i}] Test Loss: {loss.item():.4f}\")\n",
        "\n",
        "# Final metrics\n",
        "avg_loss = total_loss / total_samples\n",
        "accuracy = total_correct / total_samples\n",
        "\n",
        "print(f\"\\nFinal Evaluation — Average Loss: {avg_loss:.4f}, Accuracy: {accuracy:.4%}\")"
      ],
      "metadata": {
        "colab": {
          "base_uri": "https://localhost:8080/"
        },
        "id": "cFrmT-hNe3f-",
        "outputId": "f3fcd6d5-bdb7-4479-e90a-a8ddf5beffe2"
      },
      "execution_count": 57,
      "outputs": [
        {
          "output_type": "stream",
          "name": "stdout",
          "text": [
            "[Batch 0] Test Loss: 0.0697\n",
            "[Batch 10] Test Loss: 0.1585\n",
            "[Batch 20] Test Loss: 0.2158\n",
            "[Batch 30] Test Loss: 0.0801\n",
            "[Batch 40] Test Loss: 0.0458\n",
            "[Batch 50] Test Loss: 0.0488\n",
            "[Batch 60] Test Loss: 0.0170\n",
            "[Batch 70] Test Loss: 0.1818\n",
            "\n",
            "Final Evaluation — Average Loss: 0.1152, Accuracy: 96.3742%\n"
          ]
        }
      ]
    },
    {
      "cell_type": "markdown",
      "source": [
        "# Show Logit Softmax After Training"
      ],
      "metadata": {
        "id": "SbURJPEKd8JQ"
      }
    },
    {
      "cell_type": "code",
      "source": [
        "model.eval()\n",
        "\n",
        "# get the first batch\n",
        "images, targets = next(iter(train_loader))\n",
        "\n",
        "# could also use\n",
        "images = images.reshape(-1, 28, 28)\n",
        "\n",
        "logits = model(images)\n",
        "\n",
        "print(logits.shape)\n",
        "print(logits)"
      ],
      "metadata": {
        "colab": {
          "base_uri": "https://localhost:8080/"
        },
        "id": "hrn54RgGd7zN",
        "outputId": "49f16a92-618c-424f-d838-fadc8c9c391c"
      },
      "execution_count": 58,
      "outputs": [
        {
          "output_type": "stream",
          "name": "stdout",
          "text": [
            "torch.Size([128, 10])\n",
            "tensor([[-1.6196e+00, -7.8657e-01, -5.0867e-01,  ..., -1.8016e+00,\n",
            "          1.2941e+00, -1.0924e+00],\n",
            "        [-2.8377e+00, -4.5427e-01,  1.7605e+00,  ...,  9.6666e+00,\n",
            "         -1.1003e+00,  1.7265e+00],\n",
            "        [-2.9004e-01, -2.9961e-01,  7.5783e+00,  ..., -9.0598e-02,\n",
            "          7.7382e-03, -2.6817e+00],\n",
            "        ...,\n",
            "        [-3.7535e-01, -2.6784e+00, -1.6433e+00,  ..., -3.0068e+00,\n",
            "          7.2264e+00,  1.1488e+00],\n",
            "        [-1.5802e+00, -3.4126e+00, -7.2178e-01,  ..., -4.1470e-01,\n",
            "          1.1374e+00,  5.9695e+00],\n",
            "        [-3.3983e+00,  1.0666e+00,  1.0577e+00,  ...,  4.5460e+00,\n",
            "          8.0212e-01, -5.6295e-01]], grad_fn=<AddmmBackward0>)\n"
          ]
        }
      ]
    },
    {
      "cell_type": "code",
      "source": [
        "# apply softmax to logits\n",
        "output = F.softmax(logits, dim=1)\n",
        "\n",
        "print(output.shape)\n",
        "print(output)\n",
        "print(output[0])\n",
        "\n",
        "with torch.no_grad():\n",
        "    for i in range(5):\n",
        "        x = np.arange(output.shape[1])\n",
        "        y = output[i]\n",
        "        plt.plot(x, y, label=f\"{targets[i]}\")\n",
        "\n",
        "        plt.xlabel(\"Labels\")\n",
        "        plt.ylabel(\"Probability\")\n",
        "\n",
        "plt.xticks(np.arange(output.shape[1]))\n",
        "plt.legend(title=\"True Label\", bbox_to_anchor=(1.05, 1), loc='upper left', borderaxespad=0.)\n",
        "plt.show()"
      ],
      "metadata": {
        "colab": {
          "base_uri": "https://localhost:8080/",
          "height": 761
        },
        "id": "fUGCozyveFqU",
        "outputId": "b8e5e19b-cddf-4d4e-8c9d-d0f91a3fe0f4"
      },
      "execution_count": 29,
      "outputs": [
        {
          "output_type": "stream",
          "name": "stdout",
          "text": [
            "torch.Size([128, 10])\n",
            "tensor([[5.9370e-04, 2.9123e-05, 2.8271e-04,  ..., 7.1534e-03, 4.6111e-04,\n",
            "         9.7779e-01],\n",
            "        [3.6707e-05, 2.1301e-03, 1.0016e-03,  ..., 4.9787e-04, 2.9727e-03,\n",
            "         1.0073e-02],\n",
            "        [6.7842e-04, 1.2744e-03, 1.0640e-03,  ..., 7.6037e-04, 9.8176e-01,\n",
            "         8.9418e-04],\n",
            "        ...,\n",
            "        [1.1705e-03, 7.1083e-04, 2.3698e-03,  ..., 4.5226e-04, 2.8800e-04,\n",
            "         4.8921e-05],\n",
            "        [1.6154e-04, 6.9499e-04, 7.4605e-05,  ..., 9.8533e-01, 3.5165e-04,\n",
            "         9.5838e-03],\n",
            "        [8.3492e-05, 1.8983e-04, 1.4103e-05,  ..., 1.1449e-03, 8.8477e-04,\n",
            "         9.6040e-01]], grad_fn=<SoftmaxBackward0>)\n",
            "tensor([5.9370e-04, 2.9123e-05, 2.8271e-04, 1.1193e-04, 1.2584e-02, 6.5781e-04,\n",
            "        3.3365e-04, 7.1534e-03, 4.6111e-04, 9.7779e-01],\n",
            "       grad_fn=<SelectBackward0>)\n"
          ]
        },
        {
          "output_type": "display_data",
          "data": {
            "text/plain": [
              "<Figure size 640x480 with 1 Axes>"
            ],
            "image/png": "[encoded data removed]"
          },
          "metadata": {}
        }
      ]
    },
    {
      "cell_type": "markdown",
      "source": [
        "# 8. Try Having the Model Classify a Digit You Drew Yourself"
      ],
      "metadata": {
        "id": "3mkz-xaHd5mX"
      }
    },
    {
      "cell_type": "code",
      "source": [
        "import os"
      ],
      "metadata": {
        "id": "TFJTpyx380n8"
      },
      "execution_count": 23,
      "outputs": []
    },
    {
      "cell_type": "code",
      "source": [
        "os.listdir()"
      ],
      "metadata": {
        "id": "HVOuStp2eE2g",
        "colab": {
          "base_uri": "https://localhost:8080/"
        },
        "outputId": "4e4cf020-a334-44b0-c4d9-f3fe18118219"
      },
      "execution_count": 24,
      "outputs": [
        {
          "output_type": "execute_result",
          "data": {
            "text/plain": [
              "['.config', 'data', 'sample_data']"
            ]
          },
          "metadata": {},
          "execution_count": 24
        }
      ]
    },
    {
      "cell_type": "code",
      "source": [
        "from PIL import Image"
      ],
      "metadata": {
        "id": "NlBU3GwFeGOJ"
      },
      "execution_count": 25,
      "outputs": []
    },
    {
      "cell_type": "code",
      "source": [
        "# Load the PNG image using PIL\n",
        "image_path = os.path.join('Numba_Seven.png')\n",
        "png_image = Image.open(image_path)\n",
        "\n",
        "# Define transformation to convert image to tensor\n",
        "transform = transforms.Compose([\n",
        "    transforms.Grayscale(),\n",
        "    transforms.ToTensor(),\n",
        "])\n",
        "\n",
        "# Apply the transformation and normalize the image\n",
        "tensor_image = transform(png_image)\n",
        "\n",
        "# Display tensor shape and data type\n",
        "print(f\"Tensor shape: {tensor_image.shape}\")\n",
        "print(f\"Tensor data type: {tensor_image.dtype}\")\n",
        "\n",
        "# Optional: Visualize the tensor (convert tensor back to numpy array for plotting)\n",
        "numpy_image = tensor_image.numpy()\n",
        "plt.imshow(numpy_image.transpose(1, 2, 0), cmap='gray')  # Transpose to (H, W, C) for matplotlib\n",
        "plt.axis('off')\n",
        "plt.show()\n",
        "\n",
        "# add batch dimension\n",
        "tensor_image = tensor_image.unsqueeze(0)"
      ],
      "metadata": {
        "id": "yql-FqF6eHhX",
        "colab": {
          "base_uri": "https://localhost:8080/",
          "height": 349
        },
        "outputId": "0dd225e7-e81d-4c08-85bc-e6fc68cb68ce"
      },
      "execution_count": 26,
      "outputs": [
        {
          "output_type": "error",
          "ename": "FileNotFoundError",
          "evalue": "[Errno 2] No such file or directory: 'Numba_Seven.png'",
          "traceback": [
            "\u001b[0;31m---------------------------------------------------------------------------\u001b[0m",
            "\u001b[0;31mFileNotFoundError\u001b[0m                         Traceback (most recent call last)",
            "\u001b[0;32m/tmp/ipython-input-26-776066860.py\u001b[0m in \u001b[0;36m<cell line: 0>\u001b[0;34m()\u001b[0m\n\u001b[1;32m      1\u001b[0m \u001b[0;31m# Load the PNG image using PIL\u001b[0m\u001b[0;34m\u001b[0m\u001b[0;34m\u001b[0m\u001b[0m\n\u001b[1;32m      2\u001b[0m \u001b[0mimage_path\u001b[0m \u001b[0;34m=\u001b[0m \u001b[0mos\u001b[0m\u001b[0;34m.\u001b[0m\u001b[0mpath\u001b[0m\u001b[0;34m.\u001b[0m\u001b[0mjoin\u001b[0m\u001b[0;34m(\u001b[0m\u001b[0;34m'Numba_Seven.png'\u001b[0m\u001b[0;34m)\u001b[0m\u001b[0;34m\u001b[0m\u001b[0;34m\u001b[0m\u001b[0m\n\u001b[0;32m----> 3\u001b[0;31m \u001b[0mpng_image\u001b[0m \u001b[0;34m=\u001b[0m \u001b[0mImage\u001b[0m\u001b[0;34m.\u001b[0m\u001b[0mopen\u001b[0m\u001b[0;34m(\u001b[0m\u001b[0mimage_path\u001b[0m\u001b[0;34m)\u001b[0m\u001b[0;34m\u001b[0m\u001b[0;34m\u001b[0m\u001b[0m\n\u001b[0m\u001b[1;32m      4\u001b[0m \u001b[0;34m\u001b[0m\u001b[0m\n\u001b[1;32m      5\u001b[0m \u001b[0;31m# Define transformation to convert image to tensor\u001b[0m\u001b[0;34m\u001b[0m\u001b[0;34m\u001b[0m\u001b[0m\n",
            "\u001b[0;32m/usr/local/lib/python3.11/dist-packages/PIL/Image.py\u001b[0m in \u001b[0;36mopen\u001b[0;34m(fp, mode, formats)\u001b[0m\n\u001b[1;32m   3503\u001b[0m \u001b[0;34m\u001b[0m\u001b[0m\n\u001b[1;32m   3504\u001b[0m     \u001b[0;32mif\u001b[0m \u001b[0mfilename\u001b[0m\u001b[0;34m:\u001b[0m\u001b[0;34m\u001b[0m\u001b[0;34m\u001b[0m\u001b[0m\n\u001b[0;32m-> 3505\u001b[0;31m         \u001b[0mfp\u001b[0m \u001b[0;34m=\u001b[0m \u001b[0mbuiltins\u001b[0m\u001b[0;34m.\u001b[0m\u001b[0mopen\u001b[0m\u001b[0;34m(\u001b[0m\u001b[0mfilename\u001b[0m\u001b[0;34m,\u001b[0m \u001b[0;34m\"rb\"\u001b[0m\u001b[0;34m)\u001b[0m\u001b[0;34m\u001b[0m\u001b[0;34m\u001b[0m\u001b[0m\n\u001b[0m\u001b[1;32m   3506\u001b[0m         \u001b[0mexclusive_fp\u001b[0m \u001b[0;34m=\u001b[0m \u001b[0;32mTrue\u001b[0m\u001b[0;34m\u001b[0m\u001b[0;34m\u001b[0m\u001b[0m\n\u001b[1;32m   3507\u001b[0m     \u001b[0;32melse\u001b[0m\u001b[0;34m:\u001b[0m\u001b[0;34m\u001b[0m\u001b[0;34m\u001b[0m\u001b[0m\n",
            "\u001b[0;31mFileNotFoundError\u001b[0m: [Errno 2] No such file or directory: 'Numba_Seven.png'"
          ]
        }
      ]
    },
    {
      "cell_type": "code",
      "source": [
        "model.eval()\n",
        "tensor_image = tensor_image.reshape( -1, 28, 28)\n",
        "pred = model(tensor_image)\n",
        "print(f\"The model predicts that the image is a {pred.argmax().item()}\")"
      ],
      "metadata": {
        "id": "nxSK4CSIopNj"
      },
      "execution_count": null,
      "outputs": []
    },
    {
      "cell_type": "markdown",
      "source": [
        "## Congrats for Finishing!"
      ],
      "metadata": {
        "id": "4dVFsMZwejXB"
      }
    }
  ]
}